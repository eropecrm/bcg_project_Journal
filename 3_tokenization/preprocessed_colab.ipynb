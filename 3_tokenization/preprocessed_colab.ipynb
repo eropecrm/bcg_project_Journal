{
 "cells": [
  {
   "cell_type": "code",
   "execution_count": null,
   "metadata": {
    "collapsed": true
   },
   "outputs": [],
   "source": [
    "!python drive/My\\ Drive/Colab/src/make_preprocessed_data/create_pretraining_data.py \\\n",
    "--input_file=drive/My\\ Drive/Colab/rsc/training_data/corpus_bcg_toyexam.refined_colab.txt \\\n",
    "--vocab_file=drive/My\\ Drive/Colab/rsc/conf/my_vocab_colab.txt \\\n",
    "--do_lower_case=False \\\n",
    "--max_seq_length=512 \\\n",
    "--output_file=drive/My\\ Drive/Colab/rsc/my_preprocessed_training_data/corpus_bcg_toyexam.refined_colab_512_tf.record"
   ]
  }
 ],
 "metadata": {
  "kernelspec": {
   "display_name": "Python 3",
   "language": "python",
   "name": "python3"
  },
  "language_info": {
   "codemirror_mode": {
    "name": "ipython",
    "version": 2
   },
   "file_extension": ".py",
   "mimetype": "text/x-python",
   "name": "python",
   "nbconvert_exporter": "python",
   "pygments_lexer": "ipython2",
   "version": "2.7.6"
  }
 },
 "nbformat": 4,
 "nbformat_minor": 0
}