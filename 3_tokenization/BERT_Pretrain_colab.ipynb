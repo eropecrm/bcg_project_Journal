{
 "cells": [
  {
   "cell_type": "code",
   "execution_count": null,
   "metadata": {
    "collapsed": true
   },
   "outputs": [],
   "source": [
    "!python drive/My\\ Drive/Colab/src/make_bert_model/run_pretraining.py \\\n",
    "--input_file=drive/My\\ Drive/Colab/rsc/preprocessed_training_data/corpus_bcg_toyexam.refined_colab_512_tf.record \\\n",
    "--output_dir=drive/My\\ Drive/Colab/rsc/my_pretrained_model \\\n",
    "--do_train=True \\\n",
    "--do_eval=True \\\n",
    "--bert_config_file=drive/My\\ Drive/Colab/rsc/conf/bert_config.json \\\n",
    "--train_batch_size=4 \\\n",
    "--max_seq_length=512 \\\n",
    "--max_predictions_per_seq=20 \\\n",
    "--num_train_steps=10 \\\n",
    "--learning_rate=1e-4 \\\n",
    "--save_checkpoints_steps=5 \\\n",
    "--do_lower_case=False"
   ]
  }
 ],
 "metadata": {
  "kernelspec": {
   "display_name": "Python 3",
   "language": "python",
   "name": "python3"
  },
  "language_info": {
   "codemirror_mode": {
    "name": "ipython",
    "version": 2
   },
   "file_extension": ".py",
   "mimetype": "text/x-python",
   "name": "python",
   "nbconvert_exporter": "python",
   "pygments_lexer": "ipython2",
   "version": "2.7.6"
  }
 },
 "nbformat": 4,
 "nbformat_minor": 0
}